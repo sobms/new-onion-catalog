{
  "nbformat": 4,
  "nbformat_minor": 0,
  "metadata": {
    "colab": {
      "name": "Table_Processing.ipynb",
      "provenance": [],
      "collapsed_sections": []
    },
    "kernelspec": {
      "name": "python3",
      "display_name": "Python 3"
    }
  },
  "cells": [
    {
      "cell_type": "code",
      "metadata": {
        "id": "mIr9YPuDr9--",
        "colab_type": "code",
        "outputId": "41c139d0-ef3e-4e8b-c47a-a74b78834d26",
        "colab": {
          "base_uri": "https://localhost:8080/",
          "height": 221
        }
      },
      "source": [
        "import pandas as pd\n",
        "import numpy as np\n",
        "data_price = open('/content/data_price.txt','r',encoding='utf-8')\n",
        "def make_list_of_words(data):\n",
        "    list_data = []\n",
        "    for line in data:\n",
        "        list_data.append(line.strip())\n",
        "    return list_data\n",
        "data_words = make_list_of_words(data_price)\n",
        "base = pd.read_csv('/content/products_base2.csv')\n",
        "base = pd.DataFrame(base[base['Наименование']==val].iloc[0] for val in base['Наименование'].unique())\n",
        "base['Цена']\n",
        "# for line in data_price:\n",
        "#   print(line)\n"
      ],
      "execution_count": 150,
      "outputs": [
        {
          "output_type": "execute_result",
          "data": {
            "text/plain": [
              "0       465 USD = 0.06471 ฿\n",
              "1       475 USD = 0.06610 ฿\n",
              "2       135 USD = 0.01879 ฿\n",
              "3       130 USD = 0.01809 ฿\n",
              "4          $7/Gram | in BTC\n",
              "               ...         \n",
              "8976                €155.00\n",
              "8977                €285.00\n",
              "8978                 €90.00\n",
              "8979                €170.00\n",
              "8980                €425.00\n",
              "Name: Цена, Length: 523, dtype: object"
            ]
          },
          "metadata": {
            "tags": []
          },
          "execution_count": 150
        }
      ]
    },
    {
      "cell_type": "code",
      "metadata": {
        "id": "AgWxaenEQwB5",
        "colab_type": "code",
        "colab": {}
      },
      "source": [
        "import re\n",
        "column_signs = [] \n",
        "def find_sign(text,data_price):\n",
        "  if text.strip() in data_price:\n",
        "        return text.strip()\n",
        "  if text.strip() == '$':\n",
        "        return '$'\n",
        "  for key_word in data_price:\n",
        "    regex = re.compile(key_word+'\\s*\\d+')\n",
        "    if re.search(\"\\d+\\s*%s\"%(key_word),text) or re.search(\"%s\\s*\\d+\"%(key_word),text): # or re.search(\"\\$\"+\"\\s*\\d+\",text) or re.search(\"\\d+\\s*\"+\"\\$\",text):\n",
        "        if key_word == '\\$':\n",
        "           return key_word[1]\n",
        "        return key_word\n",
        "    \n",
        "for i in range(len(base)):\n",
        "    column_signs.append(find_sign(str(base['Цена'].iloc[i]),data_words))\n",
        "base.insert(2,\"Валюта\",column_signs,)\n",
        "base.insert(3,\"Количество товара\",np.full(len(base),''))\n",
        "\n",
        "data_quantity = open('/content/Кол-во товара.txt','r',encoding='utf-8')\n",
        "  #print(base['Цена'].iloc[i])"
      ],
      "execution_count": 0,
      "outputs": []
    },
    {
      "cell_type": "code",
      "metadata": {
        "id": "7de8zamKD9KD",
        "colab_type": "code",
        "colab": {}
      },
      "source": [
        "data_quantity = open('/content/Кол-во товара.txt','r',encoding='utf-8')\n",
        "lst_quantity = make_list_of_words(data_quantity)\n",
        "\n",
        "def find_quantity(lst_quantity,text):\n",
        " if re.search(\"\\d+\\.\\d+%s\\d+\"%('x'),text):\n",
        "   return ''\n",
        " for key_word in lst_quantity:\n",
        "   if re.search(\"\\d+\\.\\d+%s\"%(key_word),text):\n",
        "      return str(re.search(\"\\d+\\.\\d+%s\"%(key_word),text).group(0))\n",
        " for key_word1 in lst_quantity[:6]:\n",
        "    if re.search(\"\\d+\\s*%s\"%(key_word1),text):\n",
        "      lst = []\n",
        "      lst.append(re.search(\"\\d+\\s*%s\"%(key_word1),text).group(0))\n",
        "      if re.search(\"\\d+\\s*%s\"%(lst_quantity),text):\n",
        "        for key_word in lst_quantity[6:]:\n",
        "          if re.search(\"%s\\s*\\d+\"%(key_word),text):\n",
        "            lst.append(re.search(\"%s\\s*\\d+\"%(key_word),text).group(0))\n",
        "          if re.search(\"\\d+\\s*%s\"%(key_word),text):\n",
        "            lst.append(re.search(\"\\d+\\s*%s\"%(key_word),text).group(0))\n",
        "        return ' '.join(lst)\n",
        "    \n",
        "\n",
        " for key_word1 in lst_quantity[:6]:\n",
        "    if re.search(\"%s\\s*\\d+\"%(key_word1),text):\n",
        "      lst = []\n",
        "      lst.append(re.search(\"%s\\s*\\d+\"%(key_word1),text).group(0))\n",
        "      if re.search(\"%s\\s*\\d+\"%(lst_quantity),text):\n",
        "        for key_word in lst_quantity[6:]:\n",
        "          if re.search(\"%s\\s*\\d+\"%(key_word),text):\n",
        "            lst.append(re.search(\"%s\\s*\\d+\"%(key_word),text).group(0))\n",
        "          if re.search(\"\\d+\\s*%s\"%(key_word),text):\n",
        "            lst.append(re.search(\"\\d+\\s*%s\"%(key_word),text).group(0))\n",
        "        return ' '.join(lst)\n",
        "    for key_word in lst_quantity:\n",
        "        if re.search(\"\\d+\\s*%s\"%(key_word),text):\n",
        "          return str(re.search(\"\\d+\\s*%s\"%(key_word),text).group(0))\n",
        "        if re.search(\"%s\\s*\\d+\"%(key_word),text):\n",
        "          return str(re.search(\"%s\\s*\\d+\"%(key_word),text).group(0))\n",
        "\n",
        "for i in range(len(base)):\n",
        "  base['Количество товара'].iloc[i] = find_quantity(lst_quantity,str(base['Наименование'].iloc[i]))\n",
        "  if base['Количество товара'].iloc[i] == '':\n",
        "     base['Количество товара'].iloc[i] = find_quantity(lst_quantity,str(base['Цена'].iloc[i]))\n",
        "\n",
        "base.to_csv('/content/results_of_research.csv')  "
      ],
      "execution_count": 0,
      "outputs": []
    }
  ]
}